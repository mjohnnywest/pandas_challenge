{
  "metadata": {
    "kernelspec": {
      "name": "python",
      "display_name": "Python (Pyodide)",
      "language": "python"
    },
    "language_info": {
      "codemirror_mode": {
        "name": "python",
        "version": 3
      },
      "file_extension": ".py",
      "mimetype": "text/x-python",
      "name": "python",
      "nbconvert_exporter": "python",
      "pygments_lexer": "ipython3",
      "version": "3.8"
    }
  },
  "nbformat_minor": 5,
  "nbformat": 4,
  "cells": [
    {
      "id": "f54cc260",
      "cell_type": "code",
      "source": "import pandas as pd #lets get our importing out of the way\nimport numpy as np\n\nschool_data = pd.read_csv(\"Resources/schools_complete.csv\") #importing in as a dataframe\nstudent_data = pd.read_csv(\"Resources/students_complete.csv\")",
      "metadata": {
        "trusted": true
      },
      "outputs": [],
      "execution_count": 3
    },
    {
      "id": "f3bdf4e4",
      "cell_type": "code",
      "source": "school_data.columns, student_data.columns #see what we're working with",
      "metadata": {
        "trusted": true
      },
      "outputs": [
        {
          "execution_count": 4,
          "output_type": "execute_result",
          "data": {
            "text/plain": "(Index(['School ID', 'school_name', 'type', 'size', 'budget'], dtype='object'),\n Index(['Student ID', 'student_name', 'gender', 'grade', 'school_name',\n        'reading_score', 'math_score'],\n       dtype='object'))"
          },
          "metadata": {}
        }
      ],
      "execution_count": 4
    },
    {
      "id": "d6070302",
      "cell_type": "code",
      "source": "school_data.head() #closer look",
      "metadata": {
        "trusted": true
      },
      "outputs": [
        {
          "execution_count": 5,
          "output_type": "execute_result",
          "data": {
            "text/plain": "   School ID            school_name      type  size   budget\n0          0      Huang High School  District  2917  1910635\n1          1   Figueroa High School  District  2949  1884411\n2          2    Shelton High School   Charter  1761  1056600\n3          3  Hernandez High School  District  4635  3022020\n4          4    Griffin High School   Charter  1468   917500",
            "text/html": "<div>\n<style scoped>\n    .dataframe tbody tr th:only-of-type {\n        vertical-align: middle;\n    }\n\n    .dataframe tbody tr th {\n        vertical-align: top;\n    }\n\n    .dataframe thead th {\n        text-align: right;\n    }\n</style>\n<table border=\"1\" class=\"dataframe\">\n  <thead>\n    <tr style=\"text-align: right;\">\n      <th></th>\n      <th>School ID</th>\n      <th>school_name</th>\n      <th>type</th>\n      <th>size</th>\n      <th>budget</th>\n    </tr>\n  </thead>\n  <tbody>\n    <tr>\n      <th>0</th>\n      <td>0</td>\n      <td>Huang High School</td>\n      <td>District</td>\n      <td>2917</td>\n      <td>1910635</td>\n    </tr>\n    <tr>\n      <th>1</th>\n      <td>1</td>\n      <td>Figueroa High School</td>\n      <td>District</td>\n      <td>2949</td>\n      <td>1884411</td>\n    </tr>\n    <tr>\n      <th>2</th>\n      <td>2</td>\n      <td>Shelton High School</td>\n      <td>Charter</td>\n      <td>1761</td>\n      <td>1056600</td>\n    </tr>\n    <tr>\n      <th>3</th>\n      <td>3</td>\n      <td>Hernandez High School</td>\n      <td>District</td>\n      <td>4635</td>\n      <td>3022020</td>\n    </tr>\n    <tr>\n      <th>4</th>\n      <td>4</td>\n      <td>Griffin High School</td>\n      <td>Charter</td>\n      <td>1468</td>\n      <td>917500</td>\n    </tr>\n  </tbody>\n</table>\n</div>"
          },
          "metadata": {}
        }
      ],
      "execution_count": 5
    },
    {
      "id": "88b248be",
      "cell_type": "code",
      "source": "student_data.head() #closer look",
      "metadata": {
        "trusted": true
      },
      "outputs": [
        {
          "execution_count": 6,
          "output_type": "execute_result",
          "data": {
            "text/plain": "   Student ID       student_name gender grade        school_name  \\\n0           0       Paul Bradley      M   9th  Huang High School   \n1           1       Victor Smith      M  12th  Huang High School   \n2           2    Kevin Rodriguez      M  12th  Huang High School   \n3           3  Dr. Richard Scott      M  12th  Huang High School   \n4           4         Bonnie Ray      F   9th  Huang High School   \n\n   reading_score  math_score  \n0             66          79  \n1             94          61  \n2             90          60  \n3             67          58  \n4             97          84  ",
            "text/html": "<div>\n<style scoped>\n    .dataframe tbody tr th:only-of-type {\n        vertical-align: middle;\n    }\n\n    .dataframe tbody tr th {\n        vertical-align: top;\n    }\n\n    .dataframe thead th {\n        text-align: right;\n    }\n</style>\n<table border=\"1\" class=\"dataframe\">\n  <thead>\n    <tr style=\"text-align: right;\">\n      <th></th>\n      <th>Student ID</th>\n      <th>student_name</th>\n      <th>gender</th>\n      <th>grade</th>\n      <th>school_name</th>\n      <th>reading_score</th>\n      <th>math_score</th>\n    </tr>\n  </thead>\n  <tbody>\n    <tr>\n      <th>0</th>\n      <td>0</td>\n      <td>Paul Bradley</td>\n      <td>M</td>\n      <td>9th</td>\n      <td>Huang High School</td>\n      <td>66</td>\n      <td>79</td>\n    </tr>\n    <tr>\n      <th>1</th>\n      <td>1</td>\n      <td>Victor Smith</td>\n      <td>M</td>\n      <td>12th</td>\n      <td>Huang High School</td>\n      <td>94</td>\n      <td>61</td>\n    </tr>\n    <tr>\n      <th>2</th>\n      <td>2</td>\n      <td>Kevin Rodriguez</td>\n      <td>M</td>\n      <td>12th</td>\n      <td>Huang High School</td>\n      <td>90</td>\n      <td>60</td>\n    </tr>\n    <tr>\n      <th>3</th>\n      <td>3</td>\n      <td>Dr. Richard Scott</td>\n      <td>M</td>\n      <td>12th</td>\n      <td>Huang High School</td>\n      <td>67</td>\n      <td>58</td>\n    </tr>\n    <tr>\n      <th>4</th>\n      <td>4</td>\n      <td>Bonnie Ray</td>\n      <td>F</td>\n      <td>9th</td>\n      <td>Huang High School</td>\n      <td>97</td>\n      <td>84</td>\n    </tr>\n  </tbody>\n</table>\n</div>"
          },
          "metadata": {}
        }
      ],
      "execution_count": 6
    },
    {
      "id": "f029abbd",
      "cell_type": "code",
      "source": "print(school_data.shape) #very small\nstudent_data.shape # very large!",
      "metadata": {
        "trusted": true
      },
      "outputs": [
        {
          "name": "stdout",
          "output_type": "stream",
          "text": "(15, 5)\n"
        },
        {
          "execution_count": 7,
          "output_type": "execute_result",
          "data": {
            "text/plain": "(39170, 7)"
          },
          "metadata": {}
        }
      ],
      "execution_count": 7
    },
    {
      "id": "51d1ed2d",
      "cell_type": "code",
      "source": "district_df_titles = [\"# of Schools\", \"# of Students\", \"Budget\",\"Avg Math\",\"Avg Reading\", \"% Passing Math\", \"% Passing Reading\", \"% Passing Both\"]\n# made the titles a list so hopefully it is easier to make the later df titles\ndistrict_df_values = []",
      "metadata": {
        "trusted": true
      },
      "outputs": [],
      "execution_count": 8
    },
    {
      "id": "cf547be2",
      "cell_type": "code",
      "source": "school_count = len(school_data[\"School ID\"].unique())\ndistrict_df_values.append(school_count)",
      "metadata": {
        "trusted": true
      },
      "outputs": [],
      "execution_count": 9
    },
    {
      "id": "05780614",
      "cell_type": "code",
      "source": "student_count = len(student_data[\"Student ID\"].unique())\ndistrict_df_values.append(student_count)\n",
      "metadata": {
        "trusted": true
      },
      "outputs": [],
      "execution_count": 10
    },
    {
      "id": "7ed3be3f",
      "cell_type": "code",
      "source": "total_budget = school_data[\"budget\"].sum()\ndistrict_df_values.append(total_budget)",
      "metadata": {
        "trusted": true
      },
      "outputs": [],
      "execution_count": 11
    },
    {
      "id": "5f11928a",
      "cell_type": "code",
      "source": "avg_math = student_data[\"math_score\"].mean()\ndistrict_df_values.append(avg_math)",
      "metadata": {
        "trusted": true
      },
      "outputs": [],
      "execution_count": 12
    },
    {
      "id": "a6aab21d",
      "cell_type": "code",
      "source": "avg_read = student_data[\"reading_score\"].mean()\ndistrict_df_values.append(avg_read)",
      "metadata": {
        "trusted": true
      },
      "outputs": [],
      "execution_count": 13
    },
    {
      "id": "64d5d19b",
      "cell_type": "code",
      "source": "passing_math_perc = len(student_data[student_data[\"math_score\"]>=70])*100/student_count \n# asumming 70% is the lowest passing score\ndistrict_df_values.append(passing_math_perc)",
      "metadata": {
        "trusted": true
      },
      "outputs": [],
      "execution_count": 14
    },
    {
      "id": "509cbae0",
      "cell_type": "code",
      "source": "passing_read_perc = len(student_data[student_data[\"reading_score\"]>=70])*100/student_count \n# asumming 70% is the lowest passing score\ndistrict_df_values.append(passing_read_perc)",
      "metadata": {
        "trusted": true
      },
      "outputs": [],
      "execution_count": 15
    },
    {
      "id": "2a796657",
      "cell_type": "code",
      "source": "passing_both_perc = len(student_data[(student_data[\"reading_score\"]>=70) & (student_data[\"math_score\"]>=70)])*100/student_count\n# student_data[\"reading_score\"]>=70 makes a df of trues and falses, the student_data[] outside makes a df of all the trues\n# this is a long function, but just looks for where reading and math scores are both > 70, makes a df and counts them\ndistrict_df_values.append(passing_both_perc)",
      "metadata": {
        "trusted": true
      },
      "outputs": [],
      "execution_count": 16
    },
    {
      "id": "e4af2d78",
      "cell_type": "code",
      "source": "district_summary = pd.DataFrame([district_df_values], columns = district_df_titles) # has to be a list of lists to seperate into  a row\n",
      "metadata": {
        "trusted": true
      },
      "outputs": [],
      "execution_count": 17
    },
    {
      "id": "3e9dc24e",
      "cell_type": "code",
      "source": "district_summary[\"# of Students\"] = district_summary[\"# of Students\"].map(\"{:,}\".format)\ndistrict_summary[\"Budget\"] = district_summary[\"Budget\"].map(\"${:,.2f}\".format)\ndistrict_summary\n#Don't forget to clear values list before running again",
      "metadata": {
        "trusted": true
      },
      "outputs": [
        {
          "execution_count": 18,
          "output_type": "execute_result",
          "data": {
            "text/plain": "   # of Schools # of Students          Budget   Avg Math  Avg Reading  \\\n0            15        39,170  $24,649,428.00  78.985371     81.87784   \n\n   % Passing Math  % Passing Reading  % Passing Both  \n0       74.980853          85.805463       65.172326  ",
            "text/html": "<div>\n<style scoped>\n    .dataframe tbody tr th:only-of-type {\n        vertical-align: middle;\n    }\n\n    .dataframe tbody tr th {\n        vertical-align: top;\n    }\n\n    .dataframe thead th {\n        text-align: right;\n    }\n</style>\n<table border=\"1\" class=\"dataframe\">\n  <thead>\n    <tr style=\"text-align: right;\">\n      <th></th>\n      <th># of Schools</th>\n      <th># of Students</th>\n      <th>Budget</th>\n      <th>Avg Math</th>\n      <th>Avg Reading</th>\n      <th>% Passing Math</th>\n      <th>% Passing Reading</th>\n      <th>% Passing Both</th>\n    </tr>\n  </thead>\n  <tbody>\n    <tr>\n      <th>0</th>\n      <td>15</td>\n      <td>39,170</td>\n      <td>$24,649,428.00</td>\n      <td>78.985371</td>\n      <td>81.87784</td>\n      <td>74.980853</td>\n      <td>85.805463</td>\n      <td>65.172326</td>\n    </tr>\n  </tbody>\n</table>\n</div>"
          },
          "metadata": {}
        }
      ],
      "execution_count": 18
    },
    {
      "id": "ff85df17",
      "cell_type": "code",
      "source": "merged_school = pd.merge(school_data, student_data, how = \"inner\", on = \"school_name\")",
      "metadata": {
        "trusted": true
      },
      "outputs": [],
      "execution_count": 19
    },
    {
      "id": "40f7cacc",
      "cell_type": "code",
      "source": "merged_school",
      "metadata": {
        "trusted": true
      },
      "outputs": [
        {
          "execution_count": 20,
          "output_type": "execute_result",
          "data": {
            "text/plain": "       School ID         school_name      type  size   budget  Student ID  \\\n0              0   Huang High School  District  2917  1910635           0   \n1              0   Huang High School  District  2917  1910635           1   \n2              0   Huang High School  District  2917  1910635           2   \n3              0   Huang High School  District  2917  1910635           3   \n4              0   Huang High School  District  2917  1910635           4   \n...          ...                 ...       ...   ...      ...         ...   \n39165         14  Thomas High School   Charter  1635  1043130       39165   \n39166         14  Thomas High School   Charter  1635  1043130       39166   \n39167         14  Thomas High School   Charter  1635  1043130       39167   \n39168         14  Thomas High School   Charter  1635  1043130       39168   \n39169         14  Thomas High School   Charter  1635  1043130       39169   \n\n            student_name gender grade  reading_score  math_score  \n0           Paul Bradley      M   9th             66          79  \n1           Victor Smith      M  12th             94          61  \n2        Kevin Rodriguez      M  12th             90          60  \n3      Dr. Richard Scott      M  12th             67          58  \n4             Bonnie Ray      F   9th             97          84  \n...                  ...    ...   ...            ...         ...  \n39165       Donna Howard      F  12th             99          90  \n39166          Dawn Bell      F  10th             95          70  \n39167     Rebecca Tanner      F   9th             73          84  \n39168       Desiree Kidd      F  10th             99          90  \n39169    Carolyn Jackson      F  11th             95          75  \n\n[39170 rows x 11 columns]",
            "text/html": "<div>\n<style scoped>\n    .dataframe tbody tr th:only-of-type {\n        vertical-align: middle;\n    }\n\n    .dataframe tbody tr th {\n        vertical-align: top;\n    }\n\n    .dataframe thead th {\n        text-align: right;\n    }\n</style>\n<table border=\"1\" class=\"dataframe\">\n  <thead>\n    <tr style=\"text-align: right;\">\n      <th></th>\n      <th>School ID</th>\n      <th>school_name</th>\n      <th>type</th>\n      <th>size</th>\n      <th>budget</th>\n      <th>Student ID</th>\n      <th>student_name</th>\n      <th>gender</th>\n      <th>grade</th>\n      <th>reading_score</th>\n      <th>math_score</th>\n    </tr>\n  </thead>\n  <tbody>\n    <tr>\n      <th>0</th>\n      <td>0</td>\n      <td>Huang High School</td>\n      <td>District</td>\n      <td>2917</td>\n      <td>1910635</td>\n      <td>0</td>\n      <td>Paul Bradley</td>\n      <td>M</td>\n      <td>9th</td>\n      <td>66</td>\n      <td>79</td>\n    </tr>\n    <tr>\n      <th>1</th>\n      <td>0</td>\n      <td>Huang High School</td>\n      <td>District</td>\n      <td>2917</td>\n      <td>1910635</td>\n      <td>1</td>\n      <td>Victor Smith</td>\n      <td>M</td>\n      <td>12th</td>\n      <td>94</td>\n      <td>61</td>\n    </tr>\n    <tr>\n      <th>2</th>\n      <td>0</td>\n      <td>Huang High School</td>\n      <td>District</td>\n      <td>2917</td>\n      <td>1910635</td>\n      <td>2</td>\n      <td>Kevin Rodriguez</td>\n      <td>M</td>\n      <td>12th</td>\n      <td>90</td>\n      <td>60</td>\n    </tr>\n    <tr>\n      <th>3</th>\n      <td>0</td>\n      <td>Huang High School</td>\n      <td>District</td>\n      <td>2917</td>\n      <td>1910635</td>\n      <td>3</td>\n      <td>Dr. Richard Scott</td>\n      <td>M</td>\n      <td>12th</td>\n      <td>67</td>\n      <td>58</td>\n    </tr>\n    <tr>\n      <th>4</th>\n      <td>0</td>\n      <td>Huang High School</td>\n      <td>District</td>\n      <td>2917</td>\n      <td>1910635</td>\n      <td>4</td>\n      <td>Bonnie Ray</td>\n      <td>F</td>\n      <td>9th</td>\n      <td>97</td>\n      <td>84</td>\n    </tr>\n    <tr>\n      <th>...</th>\n      <td>...</td>\n      <td>...</td>\n      <td>...</td>\n      <td>...</td>\n      <td>...</td>\n      <td>...</td>\n      <td>...</td>\n      <td>...</td>\n      <td>...</td>\n      <td>...</td>\n      <td>...</td>\n    </tr>\n    <tr>\n      <th>39165</th>\n      <td>14</td>\n      <td>Thomas High School</td>\n      <td>Charter</td>\n      <td>1635</td>\n      <td>1043130</td>\n      <td>39165</td>\n      <td>Donna Howard</td>\n      <td>F</td>\n      <td>12th</td>\n      <td>99</td>\n      <td>90</td>\n    </tr>\n    <tr>\n      <th>39166</th>\n      <td>14</td>\n      <td>Thomas High School</td>\n      <td>Charter</td>\n      <td>1635</td>\n      <td>1043130</td>\n      <td>39166</td>\n      <td>Dawn Bell</td>\n      <td>F</td>\n      <td>10th</td>\n      <td>95</td>\n      <td>70</td>\n    </tr>\n    <tr>\n      <th>39167</th>\n      <td>14</td>\n      <td>Thomas High School</td>\n      <td>Charter</td>\n      <td>1635</td>\n      <td>1043130</td>\n      <td>39167</td>\n      <td>Rebecca Tanner</td>\n      <td>F</td>\n      <td>9th</td>\n      <td>73</td>\n      <td>84</td>\n    </tr>\n    <tr>\n      <th>39168</th>\n      <td>14</td>\n      <td>Thomas High School</td>\n      <td>Charter</td>\n      <td>1635</td>\n      <td>1043130</td>\n      <td>39168</td>\n      <td>Desiree Kidd</td>\n      <td>F</td>\n      <td>10th</td>\n      <td>99</td>\n      <td>90</td>\n    </tr>\n    <tr>\n      <th>39169</th>\n      <td>14</td>\n      <td>Thomas High School</td>\n      <td>Charter</td>\n      <td>1635</td>\n      <td>1043130</td>\n      <td>39169</td>\n      <td>Carolyn Jackson</td>\n      <td>F</td>\n      <td>11th</td>\n      <td>95</td>\n      <td>75</td>\n    </tr>\n  </tbody>\n</table>\n<p>39170 rows × 11 columns</p>\n</div>"
          },
          "metadata": {}
        }
      ],
      "execution_count": 20
    },
    {
      "id": "1be19521",
      "cell_type": "code",
      "source": "school_name = list(school_data[\"school_name\"].unique()) # School names\nschool_type = [school_data[\"type\"]] #everything should be in order unless the csv is reorganized\nschool_values = []\n",
      "metadata": {
        "trusted": true
      },
      "outputs": [],
      "execution_count": 21
    },
    {
      "id": "1715ef7e",
      "cell_type": "code",
      "source": "school_types = school_data.set_index([\"school_name\"])[\"type\"]\nschool_values.append(school_types)",
      "metadata": {
        "trusted": true
      },
      "outputs": [],
      "execution_count": 22
    },
    {
      "id": "9d646502",
      "cell_type": "code",
      "source": "per_school_counts = school_data.set_index([\"school_name\"])[\"size\"]\nschool_values.append(per_school_counts)",
      "metadata": {
        "trusted": true
      },
      "outputs": [],
      "execution_count": 23
    },
    {
      "id": "0468c6a3-479c-47b6-80f5-51c87e02cc9f",
      "cell_type": "code",
      "source": "per_school_budget = school_data.set_index([\"school_name\"])[\"budget\"]\nschool_values.append(per_school_budget)",
      "metadata": {
        "trusted": true
      },
      "outputs": [],
      "execution_count": 24
    },
    {
      "id": "50e6fe94-9a41-448d-8984-a6ca44be0206",
      "cell_type": "code",
      "source": "per_student_budget = per_school_budget/per_school_counts\nschool_values.append(per_student_budget)",
      "metadata": {
        "trusted": true
      },
      "outputs": [],
      "execution_count": 25
    },
    {
      "id": "caf96b1e",
      "cell_type": "code",
      "source": "avg_scores_school = merged_school.set_index([\"school_name\"])[[\"math_score\",\"reading_score\"]].groupby([\"school_name\"]).mean() # takes average math and reading\n#i need to remember to list within list, personal hueristic: \"multiple columns require multiple bracket sets\"\nschool_values.append(avg_scores_school)",
      "metadata": {
        "trusted": true
      },
      "outputs": [],
      "execution_count": 26
    },
    {
      "id": "52946496",
      "cell_type": "code",
      "source": "",
      "metadata": {
        "trusted": true
      },
      "outputs": [],
      "execution_count": null
    },
    {
      "id": "53489556-d680-45f9-a578-aeddef8dfee2",
      "cell_type": "code",
      "source": "passing_math_students = merged_school[\n                                        (merged_school[\"math_score\"]>=70)]\npassing_math_students = passing_math_students.set_index([\"school_name\"])[\"math_score\"].groupby([\"school_name\"]).count()\npassing_math_perc_school = passing_math_students*100 /per_school_counts\nschool_values.append(passing_math_perc_school)",
      "metadata": {
        "trusted": true
      },
      "outputs": [],
      "execution_count": 27
    },
    {
      "id": "35ff06bb-c1d6-46ad-bc27-b5ee86dcd352",
      "cell_type": "code",
      "source": "passing_read_students = merged_school[\n                                        (merged_school[\"reading_score\"]>=70)]\npassing_read_students = passing_read_students.set_index([\"school_name\"])[\"reading_score\"].groupby([\"school_name\"]).count()\npassing_read_perc_school = passing_read_students*100 /per_school_counts\nschool_values.append(passing_read_perc_school)",
      "metadata": {
        "trusted": true
      },
      "outputs": [],
      "execution_count": 28
    },
    {
      "id": "25c9d545-4bd2-43a6-a4de-f7c481731ae8",
      "cell_type": "code",
      "source": "passing_both_students = merged_school[\n                                        (merged_school[\"reading_score\"]>=70) & (merged_school[\"math_score\"]>=70)]\npassing_both_students = passing_both_students.set_index([\"school_name\"])[\"reading_score\"].groupby([\"school_name\"]).count()# don't need both columns. They will be the same.\n\npassing_both_perc_school = passing_both_students*100 /per_school_counts\nschool_values.append(passing_both_perc_school)",
      "metadata": {
        "trusted": true
      },
      "outputs": [],
      "execution_count": 29
    },
    {
      "id": "b5a05897-86e3-442d-81a0-100c94c73da6",
      "cell_type": "code",
      "source": "school_info_df = pd.concat(school_values, axis = 1) # combine our dataframes. Axis 0 will stack, axis 1 will make horizontal\nschool_info_df.columns = [\"type\",\"size\",\"Total Budget\",\"Budget per Student\", \"Average Math Score\",\"Average Reading Score\",\n                         \"Percent Passing Math\",\"Percent Passing Reading\", \"Percent Passing Both\"]\n\nschool_info_df[\"Total Budget\"] = school_info_df[\"Total Budget\"] = school_info_df[\"Total Budget\"].map(\"${:,.2f}\".format)\n#school_info_df[\"size\"] = school_info_df[\"size\"].map(\"{:,}\".format) \n#Removed formatting for size and budget per student. the formats confuse the code later down the line\nschool_info_df",
      "metadata": {
        "trusted": true
      },
      "outputs": [
        {
          "execution_count": 30,
          "output_type": "execute_result",
          "data": {
            "text/plain": "                           type  size   Total Budget  Budget per Student  \\\nschool_name                                                                \nHuang High School      District  2917  $1,910,635.00               655.0   \nFigueroa High School   District  2949  $1,884,411.00               639.0   \nShelton High School     Charter  1761  $1,056,600.00               600.0   \nHernandez High School  District  4635  $3,022,020.00               652.0   \nGriffin High School     Charter  1468    $917,500.00               625.0   \nWilson High School      Charter  2283  $1,319,574.00               578.0   \nCabrera High School     Charter  1858  $1,081,356.00               582.0   \nBailey High School     District  4976  $3,124,928.00               628.0   \nHolden High School      Charter   427    $248,087.00               581.0   \nPena High School        Charter   962    $585,858.00               609.0   \nWright High School      Charter  1800  $1,049,400.00               583.0   \nRodriguez High School  District  3999  $2,547,363.00               637.0   \nJohnson High School    District  4761  $3,094,650.00               650.0   \nFord High School       District  2739  $1,763,916.00               644.0   \nThomas High School      Charter  1635  $1,043,130.00               638.0   \n\n                       Average Math Score  Average Reading Score  \\\nschool_name                                                        \nHuang High School               76.629414              81.182722   \nFigueroa High School            76.711767              81.158020   \nShelton High School             83.359455              83.725724   \nHernandez High School           77.289752              80.934412   \nGriffin High School             83.351499              83.816757   \nWilson High School              83.274201              83.989488   \nCabrera High School             83.061895              83.975780   \nBailey High School              77.048432              81.033963   \nHolden High School              83.803279              83.814988   \nPena High School                83.839917              84.044699   \nWright High School              83.682222              83.955000   \nRodriguez High School           76.842711              80.744686   \nJohnson High School             77.072464              80.966394   \nFord High School                77.102592              80.746258   \nThomas High School              83.418349              83.848930   \n\n                       Percent Passing Math  Percent Passing Reading  \\\nschool_name                                                            \nHuang High School                 65.683922                81.316421   \nFigueroa High School              65.988471                80.739234   \nShelton High School               93.867121                95.854628   \nHernandez High School             66.752967                80.862999   \nGriffin High School               93.392371                97.138965   \nWilson High School                93.867718                96.539641   \nCabrera High School               94.133477                97.039828   \nBailey High School                66.680064                81.933280   \nHolden High School                92.505855                96.252927   \nPena High School                  94.594595                95.945946   \nWright High School                93.333333                96.611111   \nRodriguez High School             66.366592                80.220055   \nJohnson High School               66.057551                81.222432   \nFord High School                  68.309602                79.299014   \nThomas High School                93.272171                97.308869   \n\n                       Percent Passing Both  \nschool_name                                  \nHuang High School                 53.513884  \nFigueroa High School              53.204476  \nShelton High School               89.892107  \nHernandez High School             53.527508  \nGriffin High School               90.599455  \nWilson High School                90.582567  \nCabrera High School               91.334769  \nBailey High School                54.642283  \nHolden High School                89.227166  \nPena High School                  90.540541  \nWright High School                90.333333  \nRodriguez High School             52.988247  \nJohnson High School               53.539172  \nFord High School                  54.289887  \nThomas High School                90.948012  ",
            "text/html": "<div>\n<style scoped>\n    .dataframe tbody tr th:only-of-type {\n        vertical-align: middle;\n    }\n\n    .dataframe tbody tr th {\n        vertical-align: top;\n    }\n\n    .dataframe thead th {\n        text-align: right;\n    }\n</style>\n<table border=\"1\" class=\"dataframe\">\n  <thead>\n    <tr style=\"text-align: right;\">\n      <th></th>\n      <th>type</th>\n      <th>size</th>\n      <th>Total Budget</th>\n      <th>Budget per Student</th>\n      <th>Average Math Score</th>\n      <th>Average Reading Score</th>\n      <th>Percent Passing Math</th>\n      <th>Percent Passing Reading</th>\n      <th>Percent Passing Both</th>\n    </tr>\n    <tr>\n      <th>school_name</th>\n      <th></th>\n      <th></th>\n      <th></th>\n      <th></th>\n      <th></th>\n      <th></th>\n      <th></th>\n      <th></th>\n      <th></th>\n    </tr>\n  </thead>\n  <tbody>\n    <tr>\n      <th>Huang High School</th>\n      <td>District</td>\n      <td>2917</td>\n      <td>$1,910,635.00</td>\n      <td>655.0</td>\n      <td>76.629414</td>\n      <td>81.182722</td>\n      <td>65.683922</td>\n      <td>81.316421</td>\n      <td>53.513884</td>\n    </tr>\n    <tr>\n      <th>Figueroa High School</th>\n      <td>District</td>\n      <td>2949</td>\n      <td>$1,884,411.00</td>\n      <td>639.0</td>\n      <td>76.711767</td>\n      <td>81.158020</td>\n      <td>65.988471</td>\n      <td>80.739234</td>\n      <td>53.204476</td>\n    </tr>\n    <tr>\n      <th>Shelton High School</th>\n      <td>Charter</td>\n      <td>1761</td>\n      <td>$1,056,600.00</td>\n      <td>600.0</td>\n      <td>83.359455</td>\n      <td>83.725724</td>\n      <td>93.867121</td>\n      <td>95.854628</td>\n      <td>89.892107</td>\n    </tr>\n    <tr>\n      <th>Hernandez High School</th>\n      <td>District</td>\n      <td>4635</td>\n      <td>$3,022,020.00</td>\n      <td>652.0</td>\n      <td>77.289752</td>\n      <td>80.934412</td>\n      <td>66.752967</td>\n      <td>80.862999</td>\n      <td>53.527508</td>\n    </tr>\n    <tr>\n      <th>Griffin High School</th>\n      <td>Charter</td>\n      <td>1468</td>\n      <td>$917,500.00</td>\n      <td>625.0</td>\n      <td>83.351499</td>\n      <td>83.816757</td>\n      <td>93.392371</td>\n      <td>97.138965</td>\n      <td>90.599455</td>\n    </tr>\n    <tr>\n      <th>Wilson High School</th>\n      <td>Charter</td>\n      <td>2283</td>\n      <td>$1,319,574.00</td>\n      <td>578.0</td>\n      <td>83.274201</td>\n      <td>83.989488</td>\n      <td>93.867718</td>\n      <td>96.539641</td>\n      <td>90.582567</td>\n    </tr>\n    <tr>\n      <th>Cabrera High School</th>\n      <td>Charter</td>\n      <td>1858</td>\n      <td>$1,081,356.00</td>\n      <td>582.0</td>\n      <td>83.061895</td>\n      <td>83.975780</td>\n      <td>94.133477</td>\n      <td>97.039828</td>\n      <td>91.334769</td>\n    </tr>\n    <tr>\n      <th>Bailey High School</th>\n      <td>District</td>\n      <td>4976</td>\n      <td>$3,124,928.00</td>\n      <td>628.0</td>\n      <td>77.048432</td>\n      <td>81.033963</td>\n      <td>66.680064</td>\n      <td>81.933280</td>\n      <td>54.642283</td>\n    </tr>\n    <tr>\n      <th>Holden High School</th>\n      <td>Charter</td>\n      <td>427</td>\n      <td>$248,087.00</td>\n      <td>581.0</td>\n      <td>83.803279</td>\n      <td>83.814988</td>\n      <td>92.505855</td>\n      <td>96.252927</td>\n      <td>89.227166</td>\n    </tr>\n    <tr>\n      <th>Pena High School</th>\n      <td>Charter</td>\n      <td>962</td>\n      <td>$585,858.00</td>\n      <td>609.0</td>\n      <td>83.839917</td>\n      <td>84.044699</td>\n      <td>94.594595</td>\n      <td>95.945946</td>\n      <td>90.540541</td>\n    </tr>\n    <tr>\n      <th>Wright High School</th>\n      <td>Charter</td>\n      <td>1800</td>\n      <td>$1,049,400.00</td>\n      <td>583.0</td>\n      <td>83.682222</td>\n      <td>83.955000</td>\n      <td>93.333333</td>\n      <td>96.611111</td>\n      <td>90.333333</td>\n    </tr>\n    <tr>\n      <th>Rodriguez High School</th>\n      <td>District</td>\n      <td>3999</td>\n      <td>$2,547,363.00</td>\n      <td>637.0</td>\n      <td>76.842711</td>\n      <td>80.744686</td>\n      <td>66.366592</td>\n      <td>80.220055</td>\n      <td>52.988247</td>\n    </tr>\n    <tr>\n      <th>Johnson High School</th>\n      <td>District</td>\n      <td>4761</td>\n      <td>$3,094,650.00</td>\n      <td>650.0</td>\n      <td>77.072464</td>\n      <td>80.966394</td>\n      <td>66.057551</td>\n      <td>81.222432</td>\n      <td>53.539172</td>\n    </tr>\n    <tr>\n      <th>Ford High School</th>\n      <td>District</td>\n      <td>2739</td>\n      <td>$1,763,916.00</td>\n      <td>644.0</td>\n      <td>77.102592</td>\n      <td>80.746258</td>\n      <td>68.309602</td>\n      <td>79.299014</td>\n      <td>54.289887</td>\n    </tr>\n    <tr>\n      <th>Thomas High School</th>\n      <td>Charter</td>\n      <td>1635</td>\n      <td>$1,043,130.00</td>\n      <td>638.0</td>\n      <td>83.418349</td>\n      <td>83.848930</td>\n      <td>93.272171</td>\n      <td>97.308869</td>\n      <td>90.948012</td>\n    </tr>\n  </tbody>\n</table>\n</div>"
          },
          "metadata": {}
        }
      ],
      "execution_count": 30
    },
    {
      "id": "1a999db3-cf28-4bf0-8685-25bbd7ff18b2",
      "cell_type": "code",
      "source": "top_schools = school_info_df.sort_values(by = [\"Percent Passing Both\"], ascending= False)\ntop_schools.head()",
      "metadata": {
        "trusted": true
      },
      "outputs": [
        {
          "execution_count": 31,
          "output_type": "execute_result",
          "data": {
            "text/plain": "                        type  size   Total Budget  Budget per Student  \\\nschool_name                                                             \nCabrera High School  Charter  1858  $1,081,356.00               582.0   \nThomas High School   Charter  1635  $1,043,130.00               638.0   \nGriffin High School  Charter  1468    $917,500.00               625.0   \nWilson High School   Charter  2283  $1,319,574.00               578.0   \nPena High School     Charter   962    $585,858.00               609.0   \n\n                     Average Math Score  Average Reading Score  \\\nschool_name                                                      \nCabrera High School           83.061895              83.975780   \nThomas High School            83.418349              83.848930   \nGriffin High School           83.351499              83.816757   \nWilson High School            83.274201              83.989488   \nPena High School              83.839917              84.044699   \n\n                     Percent Passing Math  Percent Passing Reading  \\\nschool_name                                                          \nCabrera High School             94.133477                97.039828   \nThomas High School              93.272171                97.308869   \nGriffin High School             93.392371                97.138965   \nWilson High School              93.867718                96.539641   \nPena High School                94.594595                95.945946   \n\n                     Percent Passing Both  \nschool_name                                \nCabrera High School             91.334769  \nThomas High School              90.948012  \nGriffin High School             90.599455  \nWilson High School              90.582567  \nPena High School                90.540541  ",
            "text/html": "<div>\n<style scoped>\n    .dataframe tbody tr th:only-of-type {\n        vertical-align: middle;\n    }\n\n    .dataframe tbody tr th {\n        vertical-align: top;\n    }\n\n    .dataframe thead th {\n        text-align: right;\n    }\n</style>\n<table border=\"1\" class=\"dataframe\">\n  <thead>\n    <tr style=\"text-align: right;\">\n      <th></th>\n      <th>type</th>\n      <th>size</th>\n      <th>Total Budget</th>\n      <th>Budget per Student</th>\n      <th>Average Math Score</th>\n      <th>Average Reading Score</th>\n      <th>Percent Passing Math</th>\n      <th>Percent Passing Reading</th>\n      <th>Percent Passing Both</th>\n    </tr>\n    <tr>\n      <th>school_name</th>\n      <th></th>\n      <th></th>\n      <th></th>\n      <th></th>\n      <th></th>\n      <th></th>\n      <th></th>\n      <th></th>\n      <th></th>\n    </tr>\n  </thead>\n  <tbody>\n    <tr>\n      <th>Cabrera High School</th>\n      <td>Charter</td>\n      <td>1858</td>\n      <td>$1,081,356.00</td>\n      <td>582.0</td>\n      <td>83.061895</td>\n      <td>83.975780</td>\n      <td>94.133477</td>\n      <td>97.039828</td>\n      <td>91.334769</td>\n    </tr>\n    <tr>\n      <th>Thomas High School</th>\n      <td>Charter</td>\n      <td>1635</td>\n      <td>$1,043,130.00</td>\n      <td>638.0</td>\n      <td>83.418349</td>\n      <td>83.848930</td>\n      <td>93.272171</td>\n      <td>97.308869</td>\n      <td>90.948012</td>\n    </tr>\n    <tr>\n      <th>Griffin High School</th>\n      <td>Charter</td>\n      <td>1468</td>\n      <td>$917,500.00</td>\n      <td>625.0</td>\n      <td>83.351499</td>\n      <td>83.816757</td>\n      <td>93.392371</td>\n      <td>97.138965</td>\n      <td>90.599455</td>\n    </tr>\n    <tr>\n      <th>Wilson High School</th>\n      <td>Charter</td>\n      <td>2283</td>\n      <td>$1,319,574.00</td>\n      <td>578.0</td>\n      <td>83.274201</td>\n      <td>83.989488</td>\n      <td>93.867718</td>\n      <td>96.539641</td>\n      <td>90.582567</td>\n    </tr>\n    <tr>\n      <th>Pena High School</th>\n      <td>Charter</td>\n      <td>962</td>\n      <td>$585,858.00</td>\n      <td>609.0</td>\n      <td>83.839917</td>\n      <td>84.044699</td>\n      <td>94.594595</td>\n      <td>95.945946</td>\n      <td>90.540541</td>\n    </tr>\n  </tbody>\n</table>\n</div>"
          },
          "metadata": {}
        }
      ],
      "execution_count": 31
    },
    {
      "id": "3411a33f-10bf-4d86-8b67-cdfacccea5f5",
      "cell_type": "code",
      "source": "bottom_schools = school_info_df.sort_values(by = [\"Percent Passing Both\"], ascending= True) \nbottom_schools.head()",
      "metadata": {
        "trusted": true
      },
      "outputs": [
        {
          "execution_count": 32,
          "output_type": "execute_result",
          "data": {
            "text/plain": "                           type  size   Total Budget  Budget per Student  \\\nschool_name                                                                \nRodriguez High School  District  3999  $2,547,363.00               637.0   \nFigueroa High School   District  2949  $1,884,411.00               639.0   \nHuang High School      District  2917  $1,910,635.00               655.0   \nHernandez High School  District  4635  $3,022,020.00               652.0   \nJohnson High School    District  4761  $3,094,650.00               650.0   \n\n                       Average Math Score  Average Reading Score  \\\nschool_name                                                        \nRodriguez High School           76.842711              80.744686   \nFigueroa High School            76.711767              81.158020   \nHuang High School               76.629414              81.182722   \nHernandez High School           77.289752              80.934412   \nJohnson High School             77.072464              80.966394   \n\n                       Percent Passing Math  Percent Passing Reading  \\\nschool_name                                                            \nRodriguez High School             66.366592                80.220055   \nFigueroa High School              65.988471                80.739234   \nHuang High School                 65.683922                81.316421   \nHernandez High School             66.752967                80.862999   \nJohnson High School               66.057551                81.222432   \n\n                       Percent Passing Both  \nschool_name                                  \nRodriguez High School             52.988247  \nFigueroa High School              53.204476  \nHuang High School                 53.513884  \nHernandez High School             53.527508  \nJohnson High School               53.539172  ",
            "text/html": "<div>\n<style scoped>\n    .dataframe tbody tr th:only-of-type {\n        vertical-align: middle;\n    }\n\n    .dataframe tbody tr th {\n        vertical-align: top;\n    }\n\n    .dataframe thead th {\n        text-align: right;\n    }\n</style>\n<table border=\"1\" class=\"dataframe\">\n  <thead>\n    <tr style=\"text-align: right;\">\n      <th></th>\n      <th>type</th>\n      <th>size</th>\n      <th>Total Budget</th>\n      <th>Budget per Student</th>\n      <th>Average Math Score</th>\n      <th>Average Reading Score</th>\n      <th>Percent Passing Math</th>\n      <th>Percent Passing Reading</th>\n      <th>Percent Passing Both</th>\n    </tr>\n    <tr>\n      <th>school_name</th>\n      <th></th>\n      <th></th>\n      <th></th>\n      <th></th>\n      <th></th>\n      <th></th>\n      <th></th>\n      <th></th>\n      <th></th>\n    </tr>\n  </thead>\n  <tbody>\n    <tr>\n      <th>Rodriguez High School</th>\n      <td>District</td>\n      <td>3999</td>\n      <td>$2,547,363.00</td>\n      <td>637.0</td>\n      <td>76.842711</td>\n      <td>80.744686</td>\n      <td>66.366592</td>\n      <td>80.220055</td>\n      <td>52.988247</td>\n    </tr>\n    <tr>\n      <th>Figueroa High School</th>\n      <td>District</td>\n      <td>2949</td>\n      <td>$1,884,411.00</td>\n      <td>639.0</td>\n      <td>76.711767</td>\n      <td>81.158020</td>\n      <td>65.988471</td>\n      <td>80.739234</td>\n      <td>53.204476</td>\n    </tr>\n    <tr>\n      <th>Huang High School</th>\n      <td>District</td>\n      <td>2917</td>\n      <td>$1,910,635.00</td>\n      <td>655.0</td>\n      <td>76.629414</td>\n      <td>81.182722</td>\n      <td>65.683922</td>\n      <td>81.316421</td>\n      <td>53.513884</td>\n    </tr>\n    <tr>\n      <th>Hernandez High School</th>\n      <td>District</td>\n      <td>4635</td>\n      <td>$3,022,020.00</td>\n      <td>652.0</td>\n      <td>77.289752</td>\n      <td>80.934412</td>\n      <td>66.752967</td>\n      <td>80.862999</td>\n      <td>53.527508</td>\n    </tr>\n    <tr>\n      <th>Johnson High School</th>\n      <td>District</td>\n      <td>4761</td>\n      <td>$3,094,650.00</td>\n      <td>650.0</td>\n      <td>77.072464</td>\n      <td>80.966394</td>\n      <td>66.057551</td>\n      <td>81.222432</td>\n      <td>53.539172</td>\n    </tr>\n  </tbody>\n</table>\n</div>"
          },
          "metadata": {}
        }
      ],
      "execution_count": 32
    },
    {
      "id": "920ed663-9015-4e52-93b8-7de203aa2c47",
      "cell_type": "code",
      "source": "#Seperating by grade\nninth_graders = merged_school[(merged_school[\"grade\"] == \"9th\")] #pulls out a df of only 9th graders\ntenth_graders = merged_school[(merged_school[\"grade\"] == \"10th\")]\neleventh_graders = merged_school[(merged_school[\"grade\"] == \"11th\")]\ntwelfth_graders = merged_school[(merged_school[\"grade\"] == \"12th\")]\n\nmath_scores_by_grade_list = []\nninth_grader_math_scores = ninth_graders.set_index([\"school_name\"])[[\"math_score\"]].groupby([\"school_name\"]).mean()\nmath_scores_by_grade_list.append(ninth_grader_math_scores)\n\ntenth_grader_math_scores = tenth_graders.set_index([\"school_name\"])[[\"math_score\"]].groupby([\"school_name\"]).mean()\nmath_scores_by_grade_list.append(tenth_grader_math_scores)\n\neleventh_grader_math_scores = eleventh_graders.set_index([\"school_name\"])[[\"math_score\"]].groupby([\"school_name\"]).mean()\nmath_scores_by_grade_list.append(eleventh_grader_math_scores)\n\ntwelfth_grader_math_scores = twelfth_graders.set_index([\"school_name\"])[[\"math_score\"]].groupby([\"school_name\"]).mean()\nmath_scores_by_grade_list.append(twelfth_grader_math_scores)\n\nmath_scores_by_grade = pd.concat(math_scores_by_grade_list, axis= 1)\n\nmath_scores_by_grade.columns = ['9th','10th', '11th', '12th']\nmath_scores_by_grade",
      "metadata": {
        "trusted": true
      },
      "outputs": [
        {
          "execution_count": 33,
          "output_type": "execute_result",
          "data": {
            "text/plain": "                             9th       10th       11th       12th\nschool_name                                                      \nBailey High School     77.083676  76.996772  77.515588  76.492218\nCabrera High School    83.094697  83.154506  82.765560  83.277487\nFigueroa High School   76.403037  76.539974  76.884344  77.151369\nFord High School       77.361345  77.672316  76.918058  76.179963\nGriffin High School    82.044010  84.229064  83.842105  83.356164\nHernandez High School  77.438495  77.337408  77.136029  77.186567\nHolden High School     83.787402  83.429825  85.000000  82.855422\nHuang High School      77.027251  75.908735  76.446602  77.225641\nJohnson High School    77.187857  76.691117  77.491653  76.863248\nPena High School       83.625455  83.372000  84.328125  84.121547\nRodriguez High School  76.859966  76.612500  76.395626  77.690748\nShelton High School    83.420755  82.917411  83.383495  83.778976\nThomas High School     83.590022  83.087886  83.498795  83.497041\nWilson High School     83.085578  83.724422  83.195326  83.035794\nWright High School     83.264706  84.010288  83.836782  83.644986",
            "text/html": "<div>\n<style scoped>\n    .dataframe tbody tr th:only-of-type {\n        vertical-align: middle;\n    }\n\n    .dataframe tbody tr th {\n        vertical-align: top;\n    }\n\n    .dataframe thead th {\n        text-align: right;\n    }\n</style>\n<table border=\"1\" class=\"dataframe\">\n  <thead>\n    <tr style=\"text-align: right;\">\n      <th></th>\n      <th>9th</th>\n      <th>10th</th>\n      <th>11th</th>\n      <th>12th</th>\n    </tr>\n    <tr>\n      <th>school_name</th>\n      <th></th>\n      <th></th>\n      <th></th>\n      <th></th>\n    </tr>\n  </thead>\n  <tbody>\n    <tr>\n      <th>Bailey High School</th>\n      <td>77.083676</td>\n      <td>76.996772</td>\n      <td>77.515588</td>\n      <td>76.492218</td>\n    </tr>\n    <tr>\n      <th>Cabrera High School</th>\n      <td>83.094697</td>\n      <td>83.154506</td>\n      <td>82.765560</td>\n      <td>83.277487</td>\n    </tr>\n    <tr>\n      <th>Figueroa High School</th>\n      <td>76.403037</td>\n      <td>76.539974</td>\n      <td>76.884344</td>\n      <td>77.151369</td>\n    </tr>\n    <tr>\n      <th>Ford High School</th>\n      <td>77.361345</td>\n      <td>77.672316</td>\n      <td>76.918058</td>\n      <td>76.179963</td>\n    </tr>\n    <tr>\n      <th>Griffin High School</th>\n      <td>82.044010</td>\n      <td>84.229064</td>\n      <td>83.842105</td>\n      <td>83.356164</td>\n    </tr>\n    <tr>\n      <th>Hernandez High School</th>\n      <td>77.438495</td>\n      <td>77.337408</td>\n      <td>77.136029</td>\n      <td>77.186567</td>\n    </tr>\n    <tr>\n      <th>Holden High School</th>\n      <td>83.787402</td>\n      <td>83.429825</td>\n      <td>85.000000</td>\n      <td>82.855422</td>\n    </tr>\n    <tr>\n      <th>Huang High School</th>\n      <td>77.027251</td>\n      <td>75.908735</td>\n      <td>76.446602</td>\n      <td>77.225641</td>\n    </tr>\n    <tr>\n      <th>Johnson High School</th>\n      <td>77.187857</td>\n      <td>76.691117</td>\n      <td>77.491653</td>\n      <td>76.863248</td>\n    </tr>\n    <tr>\n      <th>Pena High School</th>\n      <td>83.625455</td>\n      <td>83.372000</td>\n      <td>84.328125</td>\n      <td>84.121547</td>\n    </tr>\n    <tr>\n      <th>Rodriguez High School</th>\n      <td>76.859966</td>\n      <td>76.612500</td>\n      <td>76.395626</td>\n      <td>77.690748</td>\n    </tr>\n    <tr>\n      <th>Shelton High School</th>\n      <td>83.420755</td>\n      <td>82.917411</td>\n      <td>83.383495</td>\n      <td>83.778976</td>\n    </tr>\n    <tr>\n      <th>Thomas High School</th>\n      <td>83.590022</td>\n      <td>83.087886</td>\n      <td>83.498795</td>\n      <td>83.497041</td>\n    </tr>\n    <tr>\n      <th>Wilson High School</th>\n      <td>83.085578</td>\n      <td>83.724422</td>\n      <td>83.195326</td>\n      <td>83.035794</td>\n    </tr>\n    <tr>\n      <th>Wright High School</th>\n      <td>83.264706</td>\n      <td>84.010288</td>\n      <td>83.836782</td>\n      <td>83.644986</td>\n    </tr>\n  </tbody>\n</table>\n</div>"
          },
          "metadata": {}
        }
      ],
      "execution_count": 33
    },
    {
      "id": "e6f147ec-0efa-4fab-83a6-4241829f7b5b",
      "cell_type": "code",
      "source": "#run previous block first\nread_scores_by_grade_list = []\n\nninth_grader_reading_scores = ninth_graders.set_index([\"school_name\"])[[\"reading_score\"]].groupby([\"school_name\"]).mean()\nread_scores_by_grade_list.append(ninth_grader_reading_scores)\n\ntenth_grader_reading_scores = tenth_graders.set_index([\"school_name\"])[[\"reading_score\"]].groupby([\"school_name\"]).mean()\nread_scores_by_grade_list.append(tenth_grader_reading_scores)\n\neleventh_grader_reading_scores = eleventh_graders.set_index([\"school_name\"])[[\"reading_score\"]].groupby([\"school_name\"]).mean()\nread_scores_by_grade_list.append(eleventh_grader_reading_scores)\n\ntwelfth_grader_reading_scores = twelfth_graders.set_index([\"school_name\"])[[\"reading_score\"]].groupby([\"school_name\"]).mean()\nread_scores_by_grade_list.append(twelfth_grader_reading_scores)\n\nread_scores_by_grade = pd.concat(read_scores_by_grade_list, axis= 1)\n\nread_scores_by_grade.columns = ['9th','10th', '11th', '12th']\nread_scores_by_grade",
      "metadata": {
        "trusted": true,
        "scrolled": true
      },
      "outputs": [
        {
          "execution_count": 39,
          "output_type": "execute_result",
          "data": {
            "text/plain": "                             9th       10th       11th       12th\nschool_name                                                      \nBailey High School     81.303155  80.907183  80.945643  80.912451\nCabrera High School    83.676136  84.253219  83.788382  84.287958\nFigueroa High School   81.198598  81.408912  80.640339  81.384863\nFord High School       80.632653  81.262712  80.403642  80.662338\nGriffin High School    83.369193  83.706897  84.288089  84.013699\nHernandez High School  80.866860  80.660147  81.396140  80.857143\nHolden High School     83.677165  83.324561  83.815534  84.698795\nHuang High School      81.290284  81.512386  81.417476  80.305983\nJohnson High School    81.260714  80.773431  80.616027  81.227564\nPena High School       83.807273  83.612000  84.335938  84.591160\nRodriguez High School  80.993127  80.629808  80.864811  80.376426\nShelton High School    84.122642  83.441964  84.373786  82.781671\nThomas High School     83.728850  84.254157  83.585542  83.831361\nWilson High School     83.939778  84.021452  83.764608  84.317673\nWright High School     83.833333  83.812757  84.156322  84.073171",
            "text/html": "<div>\n<style scoped>\n    .dataframe tbody tr th:only-of-type {\n        vertical-align: middle;\n    }\n\n    .dataframe tbody tr th {\n        vertical-align: top;\n    }\n\n    .dataframe thead th {\n        text-align: right;\n    }\n</style>\n<table border=\"1\" class=\"dataframe\">\n  <thead>\n    <tr style=\"text-align: right;\">\n      <th></th>\n      <th>9th</th>\n      <th>10th</th>\n      <th>11th</th>\n      <th>12th</th>\n    </tr>\n    <tr>\n      <th>school_name</th>\n      <th></th>\n      <th></th>\n      <th></th>\n      <th></th>\n    </tr>\n  </thead>\n  <tbody>\n    <tr>\n      <th>Bailey High School</th>\n      <td>81.303155</td>\n      <td>80.907183</td>\n      <td>80.945643</td>\n      <td>80.912451</td>\n    </tr>\n    <tr>\n      <th>Cabrera High School</th>\n      <td>83.676136</td>\n      <td>84.253219</td>\n      <td>83.788382</td>\n      <td>84.287958</td>\n    </tr>\n    <tr>\n      <th>Figueroa High School</th>\n      <td>81.198598</td>\n      <td>81.408912</td>\n      <td>80.640339</td>\n      <td>81.384863</td>\n    </tr>\n    <tr>\n      <th>Ford High School</th>\n      <td>80.632653</td>\n      <td>81.262712</td>\n      <td>80.403642</td>\n      <td>80.662338</td>\n    </tr>\n    <tr>\n      <th>Griffin High School</th>\n      <td>83.369193</td>\n      <td>83.706897</td>\n      <td>84.288089</td>\n      <td>84.013699</td>\n    </tr>\n    <tr>\n      <th>Hernandez High School</th>\n      <td>80.866860</td>\n      <td>80.660147</td>\n      <td>81.396140</td>\n      <td>80.857143</td>\n    </tr>\n    <tr>\n      <th>Holden High School</th>\n      <td>83.677165</td>\n      <td>83.324561</td>\n      <td>83.815534</td>\n      <td>84.698795</td>\n    </tr>\n    <tr>\n      <th>Huang High School</th>\n      <td>81.290284</td>\n      <td>81.512386</td>\n      <td>81.417476</td>\n      <td>80.305983</td>\n    </tr>\n    <tr>\n      <th>Johnson High School</th>\n      <td>81.260714</td>\n      <td>80.773431</td>\n      <td>80.616027</td>\n      <td>81.227564</td>\n    </tr>\n    <tr>\n      <th>Pena High School</th>\n      <td>83.807273</td>\n      <td>83.612000</td>\n      <td>84.335938</td>\n      <td>84.591160</td>\n    </tr>\n    <tr>\n      <th>Rodriguez High School</th>\n      <td>80.993127</td>\n      <td>80.629808</td>\n      <td>80.864811</td>\n      <td>80.376426</td>\n    </tr>\n    <tr>\n      <th>Shelton High School</th>\n      <td>84.122642</td>\n      <td>83.441964</td>\n      <td>84.373786</td>\n      <td>82.781671</td>\n    </tr>\n    <tr>\n      <th>Thomas High School</th>\n      <td>83.728850</td>\n      <td>84.254157</td>\n      <td>83.585542</td>\n      <td>83.831361</td>\n    </tr>\n    <tr>\n      <th>Wilson High School</th>\n      <td>83.939778</td>\n      <td>84.021452</td>\n      <td>83.764608</td>\n      <td>84.317673</td>\n    </tr>\n    <tr>\n      <th>Wright High School</th>\n      <td>83.833333</td>\n      <td>83.812757</td>\n      <td>84.156322</td>\n      <td>84.073171</td>\n    </tr>\n  </tbody>\n</table>\n</div>"
          },
          "metadata": {}
        }
      ],
      "execution_count": 39
    },
    {
      "id": "3c125b6e-3c78-4225-80fb-9c79c3317bd4",
      "cell_type": "code",
      "source": "school_spending_df = school_info_df.copy() #to preserve our school info dataframe\n\nspending_bins = [0, 585, 630, 645, 680]\nlabels = [\"<$585\", \"$585-630\", \"$630-645\", \"$645-680\"]\n\nschool_spending_df[\"Budget per Student\"] = (pd.cut(school_spending_df[\"Budget per Student\"], bins = spending_bins, labels = labels))\n",
      "metadata": {
        "trusted": true
      },
      "outputs": [],
      "execution_count": 35
    },
    {
      "id": "e4671768-c799-4645-aa6e-3c68bb00ee06",
      "cell_type": "code",
      "source": "school_spending_df = school_info_df.copy() #to preserve our school info dataframe\n\nspending_bins = [0, 585, 630, 645, 680]\nlabels = [\"<$585\", \"$585-630\", \"$630-645\", \"$645-680\"]\n\nschool_spending_df[\"Budget per Student\"] = (pd.cut(school_spending_df[\"Budget per Student\"], bins = spending_bins, labels = labels))\n\nspending_math_scores = school_spending_df.groupby([\"Budget per Student\"], observed = True)[\"Average Math Score\"].mean()\nspending_reading_scores = school_spending_df.groupby([\"Budget per Student\"], observed = True)[\"Average Reading Score\"].mean()\nspending_passing_math = school_spending_df.groupby([\"Budget per Student\"], observed = True)[\"Percent Passing Math\"].mean()\nspending_passing_reading = school_spending_df.groupby([\"Budget per Student\"], observed = True)[\"Percent Passing Reading\"].mean()\noverall_passing_spending = school_spending_df.groupby([\"Budget per Student\"], observed = True)[\"Percent Passing Both\"].mean()\n\nschool_spending_df = pd.concat([spending_math_scores,spending_reading_scores,spending_passing_math,spending_passing_reading,overall_passing_spending], axis = 1)\n\nschool_spending_df",
      "metadata": {
        "trusted": true
      },
      "outputs": [
        {
          "execution_count": 36,
          "output_type": "execute_result",
          "data": {
            "text/plain": "                    Average Math Score  Average Reading Score  \\\nBudget per Student                                              \n<$585                        83.455399              83.933814   \n$585-630                     81.899826              83.155286   \n$630-645                     78.518855              81.624473   \n$645-680                     76.997210              81.027843   \n\n                    Percent Passing Math  Percent Passing Reading  \\\nBudget per Student                                                  \n<$585                          93.460096                96.610877   \n$585-630                       87.133538                92.718205   \n$630-645                       73.484209                84.391793   \n$645-680                       66.164813                81.133951   \n\n                    Percent Passing Both  \nBudget per Student                        \n<$585                          90.369459  \n$585-630                       81.418596  \n$630-645                       62.857656  \n$645-680                       53.526855  ",
            "text/html": "<div>\n<style scoped>\n    .dataframe tbody tr th:only-of-type {\n        vertical-align: middle;\n    }\n\n    .dataframe tbody tr th {\n        vertical-align: top;\n    }\n\n    .dataframe thead th {\n        text-align: right;\n    }\n</style>\n<table border=\"1\" class=\"dataframe\">\n  <thead>\n    <tr style=\"text-align: right;\">\n      <th></th>\n      <th>Average Math Score</th>\n      <th>Average Reading Score</th>\n      <th>Percent Passing Math</th>\n      <th>Percent Passing Reading</th>\n      <th>Percent Passing Both</th>\n    </tr>\n    <tr>\n      <th>Budget per Student</th>\n      <th></th>\n      <th></th>\n      <th></th>\n      <th></th>\n      <th></th>\n    </tr>\n  </thead>\n  <tbody>\n    <tr>\n      <th>&lt;$585</th>\n      <td>83.455399</td>\n      <td>83.933814</td>\n      <td>93.460096</td>\n      <td>96.610877</td>\n      <td>90.369459</td>\n    </tr>\n    <tr>\n      <th>$585-630</th>\n      <td>81.899826</td>\n      <td>83.155286</td>\n      <td>87.133538</td>\n      <td>92.718205</td>\n      <td>81.418596</td>\n    </tr>\n    <tr>\n      <th>$630-645</th>\n      <td>78.518855</td>\n      <td>81.624473</td>\n      <td>73.484209</td>\n      <td>84.391793</td>\n      <td>62.857656</td>\n    </tr>\n    <tr>\n      <th>$645-680</th>\n      <td>76.997210</td>\n      <td>81.027843</td>\n      <td>66.164813</td>\n      <td>81.133951</td>\n      <td>53.526855</td>\n    </tr>\n  </tbody>\n</table>\n</div>"
          },
          "metadata": {}
        }
      ],
      "execution_count": 36
    },
    {
      "id": "3b96d39b-0e30-4e97-a8fd-c7fb411c8001",
      "cell_type": "code",
      "source": "school_size_df = school_info_df.copy()\n\nsize_bins = [0, 1000, 2000, 5000]\nsize_labels = [\"Small (<1000)\", \"Medium (1000-2000)\", \"Large (2000-5000)\"]\nschool_size_df[\"size\"] = (pd.cut(school_info_df[\"size\"], bins = size_bins, labels = size_labels) )\n\nsize_math_scores = school_size_df.groupby([\"size\"], observed = True)[\"Average Math Score\"].mean()\nsize_reading_scores = school_size_df.groupby([\"size\"], observed = True)[\"Average Reading Score\"].mean()\nsize_passing_math = school_size_df.groupby([\"size\"], observed = True)[\"Percent Passing Math\"].mean()\nsize_passing_reading = school_size_df.groupby([\"size\"], observed = True)[\"Percent Passing Reading\"].mean()\nsize_overall_passing = school_size_df.groupby([\"size\"], observed = True)[\"Percent Passing Both\"].mean()\n\n\nschool_size_df = pd.concat([size_math_scores,size_reading_scores,size_passing_math,size_passing_reading,size_overall_passing], axis = 1)\n\nschool_size_df",
      "metadata": {
        "trusted": true
      },
      "outputs": [
        {
          "execution_count": 37,
          "output_type": "execute_result",
          "data": {
            "text/plain": "                    Average Math Score  Average Reading Score  \\\nsize                                                            \nSmall (<1000)                83.821598              83.929843   \nMedium (1000-2000)           83.374684              83.864438   \nLarge (2000-5000)            77.746417              81.344493   \n\n                    Percent Passing Math  Percent Passing Reading  \\\nsize                                                                \nSmall (<1000)                  93.550225                96.099437   \nMedium (1000-2000)             93.599695                96.790680   \nLarge (2000-5000)              69.963361                82.766634   \n\n                    Percent Passing Both  \nsize                                      \nSmall (<1000)                  89.883853  \nMedium (1000-2000)             90.621535  \nLarge (2000-5000)              58.286003  ",
            "text/html": "<div>\n<style scoped>\n    .dataframe tbody tr th:only-of-type {\n        vertical-align: middle;\n    }\n\n    .dataframe tbody tr th {\n        vertical-align: top;\n    }\n\n    .dataframe thead th {\n        text-align: right;\n    }\n</style>\n<table border=\"1\" class=\"dataframe\">\n  <thead>\n    <tr style=\"text-align: right;\">\n      <th></th>\n      <th>Average Math Score</th>\n      <th>Average Reading Score</th>\n      <th>Percent Passing Math</th>\n      <th>Percent Passing Reading</th>\n      <th>Percent Passing Both</th>\n    </tr>\n    <tr>\n      <th>size</th>\n      <th></th>\n      <th></th>\n      <th></th>\n      <th></th>\n      <th></th>\n    </tr>\n  </thead>\n  <tbody>\n    <tr>\n      <th>Small (&lt;1000)</th>\n      <td>83.821598</td>\n      <td>83.929843</td>\n      <td>93.550225</td>\n      <td>96.099437</td>\n      <td>89.883853</td>\n    </tr>\n    <tr>\n      <th>Medium (1000-2000)</th>\n      <td>83.374684</td>\n      <td>83.864438</td>\n      <td>93.599695</td>\n      <td>96.790680</td>\n      <td>90.621535</td>\n    </tr>\n    <tr>\n      <th>Large (2000-5000)</th>\n      <td>77.746417</td>\n      <td>81.344493</td>\n      <td>69.963361</td>\n      <td>82.766634</td>\n      <td>58.286003</td>\n    </tr>\n  </tbody>\n</table>\n</div>"
          },
          "metadata": {}
        }
      ],
      "execution_count": 37
    },
    {
      "id": "aebcc24b-0a94-4c31-b943-87b3599e3848",
      "cell_type": "code",
      "source": "type_summary = school_info_df.set_index([\"type\"]).loc[:,\"Average Math Score\":].groupby([\"type\"]).mean()\n\ntype_summary",
      "metadata": {
        "trusted": true
      },
      "outputs": [
        {
          "execution_count": 38,
          "output_type": "execute_result",
          "data": {
            "text/plain": "          Average Math Score  Average Reading Score  Percent Passing Math  \\\ntype                                                                        \nCharter            83.473852              83.896421             93.620830   \nDistrict           76.956733              80.966636             66.548453   \n\n          Percent Passing Reading  Percent Passing Both  \ntype                                                     \nCharter                 96.586489             90.432244  \nDistrict                80.799062             53.672208  ",
            "text/html": "<div>\n<style scoped>\n    .dataframe tbody tr th:only-of-type {\n        vertical-align: middle;\n    }\n\n    .dataframe tbody tr th {\n        vertical-align: top;\n    }\n\n    .dataframe thead th {\n        text-align: right;\n    }\n</style>\n<table border=\"1\" class=\"dataframe\">\n  <thead>\n    <tr style=\"text-align: right;\">\n      <th></th>\n      <th>Average Math Score</th>\n      <th>Average Reading Score</th>\n      <th>Percent Passing Math</th>\n      <th>Percent Passing Reading</th>\n      <th>Percent Passing Both</th>\n    </tr>\n    <tr>\n      <th>type</th>\n      <th></th>\n      <th></th>\n      <th></th>\n      <th></th>\n      <th></th>\n    </tr>\n  </thead>\n  <tbody>\n    <tr>\n      <th>Charter</th>\n      <td>83.473852</td>\n      <td>83.896421</td>\n      <td>93.620830</td>\n      <td>96.586489</td>\n      <td>90.432244</td>\n    </tr>\n    <tr>\n      <th>District</th>\n      <td>76.956733</td>\n      <td>80.966636</td>\n      <td>66.548453</td>\n      <td>80.799062</td>\n      <td>53.672208</td>\n    </tr>\n  </tbody>\n</table>\n</div>"
          },
          "metadata": {}
        }
      ],
      "execution_count": 38
    }
  ]
}